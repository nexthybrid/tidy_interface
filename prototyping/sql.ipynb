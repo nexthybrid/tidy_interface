{
 "cells": [
  {
   "cell_type": "markdown",
   "metadata": {},
   "source": [
    "Import the sqlite3 module and create a database by giving it a name and connect to it."
   ]
  },
  {
   "cell_type": "code",
   "execution_count": null,
   "metadata": {},
   "outputs": [],
   "source": [
    "import sqlite3\n",
    "conn = sqlite3.connect('signals.db')"
   ]
  },
  {
   "cell_type": "markdown",
   "metadata": {},
   "source": [
    "Now we can create the schema of the database by using SQL commands, finished by a `commit()` function to effect the change.\n",
    "\n",
    "The idea of using two separate tables is that the first table `Signals` keep a unique list of uuids for each signal created, so that even when a signal's name change over time, there is still a way to track its true identity in this table. The second table `SignalVersions` keeps track of transactions of filling/modifying various fields of the signals that come in different software versions. Each such transaction will be tagged with a `software_version` so we can track how the contents of the signal change over different software versions."
   ]
  },
  {
   "cell_type": "code",
   "execution_count": null,
   "metadata": {},
   "outputs": [],
   "source": [
    "# Use SQLite syntax to create a database for the uuid, latest signal name, creation info, and creation date\n",
    "c = conn.cursor()\n",
    "\n",
    "# Signals Table\n",
    "c.execute('''\n",
    "    CREATE TABLE Signals(\n",
    "        uuid TEXT PRIMARY KEY,\n",
    "        latest_signal_name TEXT,\n",
    "        creation_info TEXT,\n",
    "        creation_date TEXT\n",
    "    )\n",
    "''')\n",
    "\n",
    "# Use SQLite syntax to create a database for software versions\n",
    "# SignalVersions Table\n",
    "c.execute('''\n",
    "    CREATE TABLE SignalVersions(\n",
    "        id INTEGER PRIMARY KEY,\n",
    "        signal_uuid TEXT,\n",
    "        signal_name TEXT NOT NULL,\n",
    "        unit TEXT,\n",
    "        default_value REAL,\n",
    "        size TEXT,\n",
    "        software_version TEXT,\n",
    "        FOREIGN KEY(signal_uuid) REFERENCES Signals(uuid)\n",
    "    )\n",
    "''')\n",
    "\n",
    "conn.commit()"
   ]
  },
  {
   "cell_type": "markdown",
   "metadata": {},
   "source": [
    "The main use-case of this tool is to import signals from external sources (e.g., csv files) and keep track of their versions. To import a csv file into a brand new database, we create the following function to:\n",
    "* Create an auto-generated uuid for each signal\n",
    "* Mark the creation date and creation info to future tracking purposes\n",
    "* Import the specified signal fields into the database\n",
    "* Tag all signals with a software version"
   ]
  },
  {
   "cell_type": "code",
   "execution_count": null,
   "metadata": {},
   "outputs": [],
   "source": [
    "# Define a function to import data into the database using a CSV file\n",
    "# The CSV file should have the following columns:\n",
    "#   - signal name\n",
    "#   - unit\n",
    "#   - default value\n",
    "#   - size\n",
    "# The CSV file should have a header row\n",
    "# The software version will be specified as a separate argument\n",
    "# The uuid will be generated automatically\n",
    "\n",
    "import csv\n",
    "import uuid\n",
    "import datetime\n",
    "\n",
    "def import_data(csv_file, software_version):\n",
    "    c = conn.cursor()\n",
    "\n",
    "    # Open the CSV file\n",
    "    with open(csv_file, newline='') as f:\n",
    "        reader = csv.DictReader(f)\n",
    "\n",
    "        # Iterate over each row in the CSV file\n",
    "        for row in reader:\n",
    "            # Generate a new UUID for the signal\n",
    "            signal_uuid = str(uuid.uuid4())\n",
    "            # Add the signal version to the SignalVersions table\n",
    "            c.execute('''\n",
    "                INSERT INTO SignalVersions (signal_uuid, signal_name, unit, default_value, size, software_version)\n",
    "                VALUES (?, ?, ?, ?, ?, ?)\n",
    "                ''', (signal_uuid, row['signal name'], row['unit'], row['default value'], row['size'], software_version))\n",
    "            # Add the signal to the Signals table\n",
    "            c.execute('''\n",
    "                INSERT INTO Signals (uuid, latest_signal_name, creation_info, creation_date)\n",
    "                VALUES (?, ?, ?, ?)\n",
    "                ''', (signal_uuid, row['signal name'], \\\n",
    "                    'Imported from CSV file ' + csv_file + ' with version as ' + software_version, \\\n",
    "                    datetime.datetime.now()))\n",
    "\n",
    "    conn.commit()\n",
    "    print(\"Data imported.\")\n",
    "\n",
    "# Import data from a CSV file\n",
    "import_data('signals_from_csv.csv', '1.0.0')"
   ]
  },
  {
   "cell_type": "markdown",
   "metadata": {},
   "source": [
    "In addition to importing from external files, which adds signals in batch, one can also manually add signals by first giving it an initial name and assign an auto-generated uuid to it. Signals created this way will have the `creation_info` as 'Manually added'."
   ]
  },
  {
   "cell_type": "code",
   "execution_count": null,
   "metadata": {},
   "outputs": [],
   "source": [
    "# Define a function to add an auto-generated uuid to the Signals table\n",
    "import uuid\n",
    "\n",
    "def add_uuid(signal_name):\n",
    "    \"\"\"add a uuid to the Signals table\n",
    "    \n",
    "    This function adds a uuid to the Signals table, and also adds the signal name. The uuid is added using the uuid4 function from the uuid module.\n",
    "\n",
    "    Args:\n",
    "        signal_name (str): name of the signal\n",
    "    \n",
    "    Returns:\n",
    "        None\n",
    "    \"\"\"\n",
    "    c.execute('''\n",
    "        INSERT INTO Signals(uuid, latest_signal_name, creation_info, creation_date)\n",
    "        VALUES (?, ?, ?, ?)\n",
    "    ''', (str(uuid.uuid4()), signal_name, 'Manually added', datetime.datetime.now()))\n",
    "    conn.commit()\n",
    "\n",
    "# Add five uuids to the Signals table\n",
    "for i in range(5):\n",
    "    add_uuid(f'signal_{i}')"
   ]
  },
  {
   "cell_type": "markdown",
   "metadata": {},
   "source": [
    "Once the barebone uuids are manually added, we need to infuse content for these signals. Each addition of signal content requires also the information of `software_version` for version control purposes. If you are merely testing, you can set `software_version` simply to a string such as 'testing'.\n",
    "\n",
    "By design, the database prevents adding duplicate transactions into the `SignalVersions` table where both the `signal_uuid` and the `software_version` fields are the same. This is enforced to ensure that for each unique signal, only one entry represents its content for a specific `software_version`. This makes sense because each unique signal should only have one representation for a specific `software_version`."
   ]
  },
  {
   "cell_type": "code",
   "execution_count": null,
   "metadata": {},
   "outputs": [],
   "source": [
    "# Define a function to add a signal version entry to the SignalVersion table\n",
    "# This function will use\n",
    "\n",
    "def add_signal_version(signal_uuid, signal_name, unit, default_value, size, software_version):\n",
    "    c = conn.cursor()\n",
    "\n",
    "    # Check if the same uuid and software_version combination already exists in SignalVersions\n",
    "    c.execute('''\n",
    "        SELECT signal_uuid, software_version\n",
    "        FROM SignalVersions\n",
    "        WHERE signal_uuid = ? AND software_version = ?\n",
    "        ''', (signal_uuid, software_version))\n",
    "    existing_entry = c.fetchone()\n",
    "\n",
    "    if existing_entry:\n",
    "        print(\"Warning: Entry with the same UUID and software version already exists.\")\n",
    "        return existing_entry[0]  # Return the UUID of the existing signal\n",
    "\n",
    "    # Add the signal version to the SignalVersions table\n",
    "    c.execute('''\n",
    "        INSERT INTO SignalVersions (signal_uuid, signal_name, unit, default_value, size, software_version)\n",
    "        VALUES (?, ?, ?, ?, ?, ?)\n",
    "        ''', (signal_uuid, signal_name, unit, default_value, size, software_version))\n",
    "\n",
    "    conn.commit()\n",
    "    return signal_uuid  # Return the UUID of the new signal\n"
   ]
  },
  {
   "cell_type": "markdown",
   "metadata": {},
   "source": [
    "In most cases, manually adding a signal version entry is done by a human, and it is often the case that the human knows the signal of interest by its name, instead of its uuid. To facilitate finding the uuid of a signal given the signal name, the following help function is deviced:"
   ]
  },
  {
   "cell_type": "code",
   "execution_count": null,
   "metadata": {},
   "outputs": [],
   "source": [
    "# Look up the uuid of a signal by its latest_signal_name\n",
    "def get_uuid(signal_name):\n",
    "    c = conn.cursor()\n",
    "\n",
    "    c.execute('''\n",
    "        SELECT uuid\n",
    "        FROM Signals\n",
    "        WHERE latest_signal_name = ?\n",
    "        ''', (signal_name,))\n",
    "    uuid = c.fetchone()\n",
    "\n",
    "    if uuid:\n",
    "        return uuid[0]\n",
    "    else:\n",
    "        return None"
   ]
  },
  {
   "cell_type": "markdown",
   "metadata": {},
   "source": [
    "With the above helper function, now we can manually add a signal version entry easily by looking up its uuid using name, then add the contents of the signal."
   ]
  },
  {
   "cell_type": "code",
   "execution_count": null,
   "metadata": {},
   "outputs": [],
   "source": [
    "# Manually insert a few signal versions entry into the database\n",
    "uuid_0 = get_uuid('signal_0')\n",
    "uuid_1 = get_uuid('signal_1')\n",
    "\n",
    "# software version 1.0.0\n",
    "add_signal_version(uuid_0, 'signal_0_name_v1p0', 'kph', 1, '[1]', '1.0.0')\n",
    "add_signal_version(uuid_1, 'signal_1_name_v1p0', 'ampere', 0, '[1]', '1.0.0')\n",
    "\n",
    "# software version 1.1.0\n",
    "add_signal_version(uuid_0, 'signal_0_name_v1p1', 'kph', 100, '[1]', '1.1.0')\n",
    "add_signal_version(uuid_1, 'signal_1_name_v1p1', 'ampere', 10, '[1]', '1.1.0')"
   ]
  },
  {
   "cell_type": "markdown",
   "metadata": {},
   "source": [
    "Now we show a few displaying scripts to see what is inside the database."
   ]
  },
  {
   "cell_type": "code",
   "execution_count": null,
   "metadata": {},
   "outputs": [],
   "source": [
    "# retrerive all signals from the Signals table\n",
    "c.execute('SELECT * FROM Signals')\n",
    "c.fetchall()\n"
   ]
  },
  {
   "cell_type": "code",
   "execution_count": null,
   "metadata": {},
   "outputs": [],
   "source": [
    "# Retrieve all signals of all versions from the SignalVersions table\n",
    "c.execute('SELECT * FROM SignalVersions')\n",
    "c.fetchall()"
   ]
  },
  {
   "cell_type": "code",
   "execution_count": null,
   "metadata": {},
   "outputs": [],
   "source": [
    "# Retrieve all signal versions from the database for a specific signal given its uuid\n",
    "uuid_0 = get_uuid('signal_0')\n",
    "c.execute('SELECT * FROM SignalVersions WHERE signal_uuid = ?', (uuid_0,))\n",
    "c.fetchall()\n"
   ]
  },
  {
   "cell_type": "code",
   "execution_count": null,
   "metadata": {},
   "outputs": [],
   "source": [
    "# Retrieve the latest version of a signal from the database\n",
    "uuid_0 = get_uuid('signal_0')\n",
    "c.execute('''\n",
    "    SELECT * FROM SignalVersions\n",
    "    WHERE signal_uuid = ?\n",
    "    ORDER BY software_version DESC\n",
    "    LIMIT 1\n",
    "    ''', (uuid_0,))\n",
    "c.fetchall()\n"
   ]
  },
  {
   "cell_type": "code",
   "execution_count": null,
   "metadata": {},
   "outputs": [],
   "source": [
    "# Define a function to retrieve the latest version of a signal from the database\n",
    "def get_latest_signal(uuid):\n",
    "    c = conn.cursor()\n",
    "\n",
    "    c.execute('''\n",
    "        SELECT * \n",
    "        FROM SignalVersions \n",
    "        WHERE signal_uuid = ? \n",
    "        ORDER BY software_version DESC \n",
    "        LIMIT 1\n",
    "        ''', (uuid,))\n",
    "\n",
    "    return c.fetchone()\n",
    "\n",
    "get_latest_signal(uuid_0)"
   ]
  },
  {
   "cell_type": "code",
   "execution_count": null,
   "metadata": {},
   "outputs": [],
   "source": [
    "# Define a function to retrieve the latest version of all signals from the database\n",
    "def get_all_latest_signals():\n",
    "    c = conn.cursor()\n",
    "\n",
    "    c.execute('''\n",
    "        SELECT * \n",
    "        FROM SignalVersions \n",
    "        WHERE id IN (\n",
    "            SELECT MAX(id)\n",
    "            FROM SignalVersions\n",
    "            GROUP BY signal_uuid\n",
    "        )\n",
    "        ''')\n",
    "\n",
    "    return c.fetchall()\n",
    "\n",
    "get_all_latest_signals()"
   ]
  },
  {
   "cell_type": "code",
   "execution_count": null,
   "metadata": {},
   "outputs": [],
   "source": [
    "# Define a function to retrieve a specific version of a signal from the database\n",
    "def get_signal_version(uuid, software_version):\n",
    "    c = conn.cursor()\n",
    "\n",
    "    c.execute('''\n",
    "        SELECT * \n",
    "        FROM SignalVersions \n",
    "        WHERE signal_uuid = ? AND software_version = ?\n",
    "        ''', (uuid, software_version))\n",
    "\n",
    "    return c.fetchone()\n",
    "\n",
    "get_signal_version(uuid_0, '1.0.0')"
   ]
  },
  {
   "cell_type": "code",
   "execution_count": null,
   "metadata": {},
   "outputs": [],
   "source": [
    "# Define a function to retrieve all versions of a signal from the database\n",
    "def get_all_signal_versions(uuid):\n",
    "    c = conn.cursor()\n",
    "\n",
    "    c.execute('''\n",
    "        SELECT * \n",
    "        FROM SignalVersions \n",
    "        WHERE signal_uuid = ?\n",
    "        ''', (uuid,))\n",
    "\n",
    "    return c.fetchall()\n",
    "\n",
    "get_all_signal_versions(uuid_0)"
   ]
  },
  {
   "cell_type": "code",
   "execution_count": null,
   "metadata": {},
   "outputs": [],
   "source": [
    "# Define a function to retrieve all signals of a specific version from the database\n",
    "def get_all_signals_of_version(software_version):\n",
    "    c = conn.cursor()\n",
    "\n",
    "    c.execute('''\n",
    "        SELECT * \n",
    "        FROM SignalVersions \n",
    "        WHERE software_version = ?\n",
    "        ''', (software_version,))\n",
    "\n",
    "    return c.fetchall()\n",
    "\n",
    "get_all_signals_of_version('1.1.0')"
   ]
  },
  {
   "cell_type": "code",
   "execution_count": null,
   "metadata": {},
   "outputs": [],
   "source": [
    "# Define a function to clear the SignalVersions table\n",
    "def clear_signal_versions_table():\n",
    "    c = conn.cursor()\n",
    "\n",
    "    # Clear the SignalVersions table\n",
    "    c.execute('DELETE FROM SignalVersions')\n",
    "\n",
    "    conn.commit()\n",
    "    print(\"SignalVersions table cleared.\")\n",
    "\n",
    "# Example usage\n",
    "clear_signal_versions_table()\n"
   ]
  },
  {
   "cell_type": "code",
   "execution_count": null,
   "metadata": {},
   "outputs": [],
   "source": [
    "# Export the schema of the database to a SQL file\n",
    "\n",
    "def export_schema(db_file, output_file):\n",
    "    conn = sqlite3.connect(db_file)\n",
    "    c = conn.cursor()\n",
    "\n",
    "    # Get the schema using a SQL query\n",
    "    c.execute(\"SELECT sql FROM sqlite_master WHERE type='table';\")\n",
    "    schema = c.fetchall()\n",
    "\n",
    "    # Write the schema to the output file\n",
    "    with open(output_file, 'w') as file:\n",
    "        for table_schema in schema:\n",
    "            file.write(table_schema[0] + \"\\n\")\n",
    "\n",
    "    conn.close()\n",
    "    print(f\"Schema exported to {output_file}\")\n",
    "\n",
    "export_schema('signals.db', 'schema.sql')"
   ]
  },
  {
   "cell_type": "code",
   "execution_count": null,
   "metadata": {},
   "outputs": [],
   "source": [
    "import yaml\n",
    "\n",
    "# Export the signals of a specific software version to a YAML file\n",
    "def export_signals(database, software_version):\n",
    "    conn = sqlite3.connect(database)\n",
    "    c = conn.cursor()\n",
    "\n",
    "    # Retrieve all signals of a specified software version\n",
    "    c.execute('''\n",
    "        SELECT s.latest_signal_name, sv.default_value, sv.unit, sv.size, s.uuid  \n",
    "        FROM Signals s\n",
    "        JOIN SignalVersions sv ON s.uuid = sv.signal_uuid\n",
    "        WHERE sv.software_version = ?\n",
    "        ''', (software_version,))\n",
    "\n",
    "    signals = c.fetchall()\n",
    "\n",
    "    # Convert the signals into a list of lists for the YAML export\n",
    "    signals_list = [\n",
    "        [{\"signal_name\": signal_name}, {\"default_value\": default_value}, {\"unit\": unit}, {\"size\": size}, {\"uuid\": uuid}] \n",
    "        for signal_name, default_value, unit,  size, uuid  in signals\n",
    "    ]\n",
    "\n",
    "    # Export the signals to a YAML file\n",
    "    with open(f'signals_{software_version}.yaml', 'w') as f:\n",
    "        yaml.dump(signals_list, f)\n",
    "\n",
    "\n",
    "export_signals('signals.db','1.0.0')"
   ]
  },
  {
   "cell_type": "code",
   "execution_count": null,
   "metadata": {},
   "outputs": [],
   "source": [
    "import csv\n",
    "\n",
    "# Export the signals of a specific software version to a CSV file\n",
    "def export_signals_to_csv(database, software_version):\n",
    "    conn = sqlite3.connect(database)\n",
    "    c = conn.cursor()\n",
    "\n",
    "    # Retrieve all signals of a specified software version\n",
    "    c.execute('''\n",
    "        SELECT s.latest_signal_name, sv.default_value, sv.unit, sv.size, s.uuid  \n",
    "        FROM Signals s\n",
    "        JOIN SignalVersions sv ON s.uuid = sv.signal_uuid\n",
    "        WHERE sv.software_version = ?\n",
    "        ''', (software_version,))\n",
    "\n",
    "    signals = c.fetchall()\n",
    "\n",
    "    # Export the signals to a CSV file\n",
    "    with open(f'signals_{software_version}.csv', 'w') as f:\n",
    "        writer = csv.writer(f)\n",
    "        writer.writerow(['signal_name', 'default_value', 'unit', 'size', 'uuid'])\n",
    "        writer.writerows(signals)\n",
    "\n",
    "export_signals_to_csv('signals.db','1.0.0')"
   ]
  },
  {
   "cell_type": "code",
   "execution_count": null,
   "metadata": {},
   "outputs": [],
   "source": [
    "# Create a database from a schema file\n",
    "def create_tables_from_schema(db_file, schema_file):\n",
    "    conn = sqlite3.connect(db_file)\n",
    "    c = conn.cursor()\n",
    "\n",
    "    # Read the schema file and execute the SQL commands\n",
    "    with open(schema_file, 'r') as file:\n",
    "        schema_sql = file.read()\n",
    "\n",
    "        # Check for missing semicolons between statements\n",
    "        schema_sql = schema_sql.replace('\\nCREATE', ';\\nCREATE')\n",
    "\n",
    "        c.executescript(schema_sql)\n",
    "\n",
    "    conn.commit()\n",
    "    conn.close()\n",
    "    print(\"Tables created successfully.\")\n",
    "\n",
    "create_tables_from_schema('signals_3.db', 'schema.sql')"
   ]
  },
  {
   "cell_type": "code",
   "execution_count": null,
   "metadata": {},
   "outputs": [],
   "source": [
    "# A function to add a column to an existing table\n",
    "\n",
    "def add_column(db_file, table_name, column_name, column_type):\n",
    "    conn = sqlite3.connect(db_file)\n",
    "    c = conn.cursor()\n",
    "\n",
    "    # Add a new column to the table\n",
    "    c.execute(f\"ALTER TABLE {table_name} ADD COLUMN {column_name} {column_type};\")\n",
    "\n",
    "    conn.commit()\n",
    "    conn.close()\n",
    "    print(f\"Column '{column_name}' added to table '{table_name}' successfully.\")\n",
    "\n",
    "# Example usage\n",
    "db_file = 'signals_3.db'\n",
    "table_name = 'SignalVersions'\n",
    "column_name = 'is_constant'\n",
    "column_type = 'INTEGER'\n",
    "add_column(db_file, table_name, column_name, column_type)\n"
   ]
  },
  {
   "cell_type": "code",
   "execution_count": null,
   "metadata": {},
   "outputs": [],
   "source": [
    "# A function to rename a column in an existing table\n",
    "\n",
    "def rename_column(db_file, table_name, old_column_name, new_column_name):\n",
    "    conn = sqlite3.connect(db_file)\n",
    "    c = conn.cursor()\n",
    "\n",
    "    # Rename the column\n",
    "    c.execute(f\"ALTER TABLE {table_name} RENAME COLUMN {old_column_name} TO {new_column_name};\")\n",
    "\n",
    "    conn.commit()\n",
    "    conn.close()\n",
    "    print(f\"Column '{old_column_name}' renamed to '{new_column_name}' in table '{table_name}' successfully.\")\n",
    "\n",
    "# Example usage\n",
    "db_file = 'signals_3.db'\n",
    "table_name = 'SignalVersions'\n",
    "old_column_name = 'is_constant'\n",
    "new_column_name = 'is_constant_signal'\n",
    "rename_column(db_file, table_name, old_column_name, new_column_name)"
   ]
  },
  {
   "cell_type": "code",
   "execution_count": null,
   "metadata": {},
   "outputs": [],
   "source": [
    "# A function to delete a column from an existing table\n",
    "\n",
    "def delete_column(db_file, table_name, column_name):\n",
    "    conn = sqlite3.connect(db_file)\n",
    "    c = conn.cursor()\n",
    "\n",
    "    # Check if the column exists in the table\n",
    "    c.execute(f\"PRAGMA table_info({table_name})\")\n",
    "    table_info = c.fetchall()\n",
    "    column_exists = any(column[1] == column_name for column in table_info)\n",
    "\n",
    "    if column_exists:\n",
    "        # Create a temporary table without the specified column\n",
    "        c.execute(f\"CREATE TABLE temp_table AS SELECT * FROM {table_name}\")\n",
    "        c.execute(f\"DROP TABLE {table_name}\")\n",
    "\n",
    "        # Rename the temporary table to the original table name\n",
    "        c.execute(f\"ALTER TABLE temp_table RENAME TO {table_name}\")\n",
    "\n",
    "        conn.commit()\n",
    "        conn.close()\n",
    "        print(f\"Column '{column_name}' deleted from table '{table_name}' successfully.\")\n",
    "    else:\n",
    "        print(f\"Column '{column_name}' does not exist in table '{table_name}'.\")\n",
    "\n",
    "# Example usage\n",
    "db_file = 'signals_3.db'\n",
    "table_name = 'SignalVersions'\n",
    "column_name = 'is_constant_signal'\n",
    "delete_column(db_file, table_name, column_name)\n"
   ]
  },
  {
   "cell_type": "code",
   "execution_count": null,
   "metadata": {},
   "outputs": [],
   "source": [
    "# Close the connection to the database\n",
    "conn.close()"
   ]
  },
  {
   "cell_type": "code",
   "execution_count": null,
   "metadata": {},
   "outputs": [],
   "source": []
  }
 ],
 "metadata": {
  "kernelspec": {
   "display_name": "Python 3",
   "language": "python",
   "name": "python3"
  },
  "language_info": {
   "codemirror_mode": {
    "name": "ipython",
    "version": 3
   },
   "file_extension": ".py",
   "mimetype": "text/x-python",
   "name": "python",
   "nbconvert_exporter": "python",
   "pygments_lexer": "ipython3",
   "version": "3.10.10"
  },
  "orig_nbformat": 4
 },
 "nbformat": 4,
 "nbformat_minor": 2
}
